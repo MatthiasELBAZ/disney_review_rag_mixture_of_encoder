{
 "cells": [
  {
   "cell_type": "code",
   "execution_count": 1,
   "id": "1be192a8",
   "metadata": {},
   "outputs": [],
   "source": [
    "import pandas as pd\n",
    "import matplotlib.pyplot as plt\n",
    "import seaborn as sns\n",
    "from scipy.stats import kruskal\n"
   ]
  },
  {
   "cell_type": "markdown",
   "id": "79354484",
   "metadata": {},
   "source": [
    "# Data Analysis"
   ]
  },
  {
   "cell_type": "markdown",
   "id": "24e7913f",
   "metadata": {},
   "source": [
    "## import data"
   ]
  },
  {
   "cell_type": "code",
   "execution_count": null,
   "id": "2924b2eb",
   "metadata": {},
   "outputs": [],
   "source": [
    "\n",
    "\n",
    "df = pd.read_csv(\"/home/elbaz/Bureau/stampli_HA/disney-reviews/DisneylandReviews.csv\", encoding=\"latin-1\")"
   ]
  },
  {
   "cell_type": "code",
   "execution_count": 6,
   "id": "8aa84be6",
   "metadata": {},
   "outputs": [
    {
     "data": {
      "text/plain": [
       "(42656, 6)"
      ]
     },
     "execution_count": 6,
     "metadata": {},
     "output_type": "execute_result"
    }
   ],
   "source": [
    "df.shape"
   ]
  },
  {
   "cell_type": "code",
   "execution_count": 7,
   "id": "b98512b9",
   "metadata": {},
   "outputs": [
    {
     "name": "stdout",
     "output_type": "stream",
     "text": [
      "<class 'pandas.core.frame.DataFrame'>\n",
      "RangeIndex: 42656 entries, 0 to 42655\n",
      "Data columns (total 6 columns):\n",
      " #   Column             Non-Null Count  Dtype \n",
      "---  ------             --------------  ----- \n",
      " 0   Review_ID          42656 non-null  int64 \n",
      " 1   Rating             42656 non-null  int64 \n",
      " 2   Year_Month         42656 non-null  object\n",
      " 3   Reviewer_Location  42656 non-null  object\n",
      " 4   Review_Text        42656 non-null  object\n",
      " 5   Branch             42656 non-null  object\n",
      "dtypes: int64(2), object(4)\n",
      "memory usage: 2.0+ MB\n"
     ]
    }
   ],
   "source": [
    "df.info()"
   ]
  },
  {
   "cell_type": "code",
   "execution_count": 8,
   "id": "055b60a1",
   "metadata": {},
   "outputs": [
    {
     "data": {
      "text/html": [
       "<div>\n",
       "<style scoped>\n",
       "    .dataframe tbody tr th:only-of-type {\n",
       "        vertical-align: middle;\n",
       "    }\n",
       "\n",
       "    .dataframe tbody tr th {\n",
       "        vertical-align: top;\n",
       "    }\n",
       "\n",
       "    .dataframe thead th {\n",
       "        text-align: right;\n",
       "    }\n",
       "</style>\n",
       "<table border=\"1\" class=\"dataframe\">\n",
       "  <thead>\n",
       "    <tr style=\"text-align: right;\">\n",
       "      <th></th>\n",
       "      <th>Review_ID</th>\n",
       "      <th>Rating</th>\n",
       "      <th>Year_Month</th>\n",
       "      <th>Reviewer_Location</th>\n",
       "      <th>Review_Text</th>\n",
       "      <th>Branch</th>\n",
       "    </tr>\n",
       "  </thead>\n",
       "  <tbody>\n",
       "    <tr>\n",
       "      <th>0</th>\n",
       "      <td>670772142</td>\n",
       "      <td>4</td>\n",
       "      <td>2019-4</td>\n",
       "      <td>Australia</td>\n",
       "      <td>If you've ever been to Disneyland anywhere you...</td>\n",
       "      <td>Disneyland_HongKong</td>\n",
       "    </tr>\n",
       "    <tr>\n",
       "      <th>1</th>\n",
       "      <td>670682799</td>\n",
       "      <td>4</td>\n",
       "      <td>2019-5</td>\n",
       "      <td>Philippines</td>\n",
       "      <td>Its been a while since d last time we visit HK...</td>\n",
       "      <td>Disneyland_HongKong</td>\n",
       "    </tr>\n",
       "    <tr>\n",
       "      <th>2</th>\n",
       "      <td>670623270</td>\n",
       "      <td>4</td>\n",
       "      <td>2019-4</td>\n",
       "      <td>United Arab Emirates</td>\n",
       "      <td>Thanks God it wasn   t too hot or too humid wh...</td>\n",
       "      <td>Disneyland_HongKong</td>\n",
       "    </tr>\n",
       "    <tr>\n",
       "      <th>3</th>\n",
       "      <td>670607911</td>\n",
       "      <td>4</td>\n",
       "      <td>2019-4</td>\n",
       "      <td>Australia</td>\n",
       "      <td>HK Disneyland is a great compact park. Unfortu...</td>\n",
       "      <td>Disneyland_HongKong</td>\n",
       "    </tr>\n",
       "    <tr>\n",
       "      <th>4</th>\n",
       "      <td>670607296</td>\n",
       "      <td>4</td>\n",
       "      <td>2019-4</td>\n",
       "      <td>United Kingdom</td>\n",
       "      <td>the location is not in the city, took around 1...</td>\n",
       "      <td>Disneyland_HongKong</td>\n",
       "    </tr>\n",
       "  </tbody>\n",
       "</table>\n",
       "</div>"
      ],
      "text/plain": [
       "   Review_ID  Rating Year_Month     Reviewer_Location  \\\n",
       "0  670772142       4     2019-4             Australia   \n",
       "1  670682799       4     2019-5           Philippines   \n",
       "2  670623270       4     2019-4  United Arab Emirates   \n",
       "3  670607911       4     2019-4             Australia   \n",
       "4  670607296       4     2019-4        United Kingdom   \n",
       "\n",
       "                                         Review_Text               Branch  \n",
       "0  If you've ever been to Disneyland anywhere you...  Disneyland_HongKong  \n",
       "1  Its been a while since d last time we visit HK...  Disneyland_HongKong  \n",
       "2  Thanks God it wasn   t too hot or too humid wh...  Disneyland_HongKong  \n",
       "3  HK Disneyland is a great compact park. Unfortu...  Disneyland_HongKong  \n",
       "4  the location is not in the city, took around 1...  Disneyland_HongKong  "
      ]
     },
     "execution_count": 8,
     "metadata": {},
     "output_type": "execute_result"
    }
   ],
   "source": [
    "df.head()"
   ]
  },
  {
   "cell_type": "markdown",
   "id": "25aefb2b",
   "metadata": {},
   "source": [
    "## Visualize Rating"
   ]
  },
  {
   "cell_type": "code",
   "execution_count": 10,
   "id": "51f89aa3",
   "metadata": {},
   "outputs": [
    {
     "data": {
      "image/png": "[encoded data removed]",
      "text/plain": [
       "<Figure size 640x480 with 1 Axes>"
      ]
     },
     "metadata": {},
     "output_type": "display_data"
    }
   ],
   "source": [
    "df.Rating.plot.hist()\n",
    "plt.show()"
   ]
  },
  {
   "cell_type": "markdown",
   "id": "bf7cbb88",
   "metadata": {},
   "source": [
    "## Time Analysis"
   ]
  },
  {
   "cell_type": "code",
   "execution_count": 12,
   "id": "c4bf7d23",
   "metadata": {},
   "outputs": [
    {
     "data": {
      "text/plain": [
       "Year_Month\n",
       "missing    2613\n",
       "2015-8      786\n",
       "2015-7      759\n",
       "2015-12     701\n",
       "2015-6      692\n",
       "           ... \n",
       "2010-8        7\n",
       "2010-5        4\n",
       "2019-5        2\n",
       "2010-3        2\n",
       "2010-4        1\n",
       "Name: count, Length: 112, dtype: int64"
      ]
     },
     "execution_count": 12,
     "metadata": {},
     "output_type": "execute_result"
    }
   ],
   "source": [
    "df.Year_Month.value_counts()"
   ]
  },
  {
   "cell_type": "code",
   "execution_count": 13,
   "id": "a03612c7",
   "metadata": {},
   "outputs": [],
   "source": [
    "# remove all missing values (Year_Month==\"missing\")\n",
    "df = df[df.Year_Month != \"missing\"]\n"
   ]
  },
  {
   "cell_type": "code",
   "execution_count": null,
   "id": "3a3ca7fd",
   "metadata": {},
   "outputs": [],
   "source": [
    "# split year and month from date (format year-month)\n",
    "df['year'] = df.Year_Month.apply(lambda x: x.split('-')[0])\n",
    "df['month'] = df.Year_Month.apply(lambda x: x.split('-')[1])\n",
    "\n",
    "# year month to int type\n",
    "df.year = df.year.astype(int)\n",
    "df.month = df.month.astype(int)\n",
    "\n",
    "# remove Year_Month column\n",
    "df = df.drop(columns=['Year_Month'])"
   ]
  },
  {
   "cell_type": "code",
   "execution_count": 23,
   "id": "88ad30c1",
   "metadata": {},
   "outputs": [
    {
     "data": {
      "text/plain": [
       "year\n",
       "2015    6979\n",
       "2016    6599\n",
       "2014    5301\n",
       "2017    5195\n",
       "2013    4717\n",
       "2012    4342\n",
       "2018    3997\n",
       "2011    1984\n",
       "2019     786\n",
       "2010     143\n",
       "Name: count, dtype: int64"
      ]
     },
     "execution_count": 23,
     "metadata": {},
     "output_type": "execute_result"
    }
   ],
   "source": [
    "df.year.value_counts()"
   ]
  },
  {
   "cell_type": "code",
   "execution_count": 24,
   "id": "5aa87f46",
   "metadata": {},
   "outputs": [
    {
     "data": {
      "text/plain": [
       "month\n",
       "8     3994\n",
       "7     3880\n",
       "12    3874\n",
       "10    3764\n",
       "6     3590\n",
       "4     3478\n",
       "5     3439\n",
       "9     3230\n",
       "3     3134\n",
       "11    2685\n",
       "1     2516\n",
       "2     2459\n",
       "Name: count, dtype: int64"
      ]
     },
     "execution_count": 24,
     "metadata": {},
     "output_type": "execute_result"
    }
   ],
   "source": [
    "df.month.value_counts()"
   ]
  },
  {
   "cell_type": "code",
   "execution_count": null,
   "id": "13ca3067",
   "metadata": {},
   "outputs": [
    {
     "name": "stdout",
     "output_type": "stream",
     "text": [
      "Statistic: 86.73274199696854, p-value: 7.259584022579857e-14\n"
     ]
    }
   ],
   "source": [
    "# correlation Kruskal-Wallis test between rating and month\n",
    "grouped_data = []\n",
    "for month in df.month.unique():\n",
    "    grouped_data.append(df[df.month == month].sample(2400).Rating.tolist())\n",
    "\n",
    "stat, p = kruskal(*grouped_data)\n",
    "\n",
    "print(f\"Statistic: {stat}, p-value: {p}\")"
   ]
  },
  {
   "cell_type": "code",
   "execution_count": null,
   "id": "19225eb7",
   "metadata": {},
   "outputs": [
    {
     "data": {
      "image/png": "[encoded data removed]",
      "text/plain": [
       "<Figure size 640x480 with 1 Axes>"
      ]
     },
     "metadata": {},
     "output_type": "display_data"
    }
   ],
   "source": [
    "sns.boxplot(x=\"month\", y=\"Rating\", data=df)\n",
    "plt.show()"
   ]
  },
  {
   "cell_type": "markdown",
   "id": "b8ef42dd",
   "metadata": {},
   "source": [
    "## Location Analysis"
   ]
  },
  {
   "cell_type": "code",
   "execution_count": 47,
   "id": "c50ea0df",
   "metadata": {},
   "outputs": [
    {
     "data": {
      "text/plain": [
       "Reviewer_Location\n",
       "United States           13522\n",
       "United Kingdom           9115\n",
       "Australia                4412\n",
       "Canada                   2116\n",
       "India                    1470\n",
       "Philippines              1024\n",
       "Singapore                 971\n",
       "New Zealand               714\n",
       "Malaysia                  562\n",
       "Hong Kong                 515\n",
       "Indonesia                 511\n",
       "Ireland                   456\n",
       "United Arab Emirates      339\n",
       "Netherlands               239\n",
       "South Africa              233\n",
       "France                    223\n",
       "Thailand                  216\n",
       "Germany                   182\n",
       "China                     167\n",
       "Spain                     132\n",
       "Name: count, dtype: int64"
      ]
     },
     "execution_count": 47,
     "metadata": {},
     "output_type": "execute_result"
    }
   ],
   "source": [
    "df.Reviewer_Location.value_counts()[:20]"
   ]
  },
  {
   "cell_type": "code",
   "execution_count": 52,
   "id": "01138d7a",
   "metadata": {},
   "outputs": [],
   "source": [
    "def get_country_region(country):\n",
    "    \"\"\"\n",
    "    Returns the world region for a given country.\n",
    "    \n",
    "    Args:\n",
    "        country (str): The name of the country\n",
    "        \n",
    "    Returns:\n",
    "        str: The world region name, or \"Unknown\" if country not found\n",
    "    \"\"\"\n",
    "    \n",
    "    # Define the 8 world regions and their countries\n",
    "    regions = {\n",
    "        \"North America\": [\n",
    "            'United States', 'Canada', 'Mexico', 'Guatemala', 'Honduras', \n",
    "            'Nicaragua', 'Costa Rica', 'Panama', 'Cuba', 'Haiti', \n",
    "            'Dominican Republic', 'Jamaica', 'The Bahamas', 'Barbados', \n",
    "            'Trinidad and Tobago', 'Antigua and Barbuda', 'Grenada',\n",
    "            'Puerto Rico', 'U.S. Virgin Islands', 'Turks and Caicos Islands',\n",
    "            'Cayman Islands', 'Aruba', 'Curaçao', 'Caribbean Netherlands'\n",
    "        ],\n",
    "        \n",
    "        \"South America\": [\n",
    "            'Brazil', 'Argentina', 'Chile', 'Peru', 'Colombia', 'Venezuela',\n",
    "            'Ecuador', 'Bolivia', 'Paraguay', 'Uruguay', 'Guyana', 'Suriname',\n",
    "            'French Guiana', 'Falkland Islands (Islas Malvinas)'\n",
    "        ],\n",
    "        \n",
    "        \"Europe\": [\n",
    "            'United Kingdom', 'France', 'Germany', 'Italy', 'Spain', 'Netherlands',\n",
    "            'Belgium', 'Switzerland', 'Austria', 'Sweden', 'Norway', 'Denmark',\n",
    "            'Finland', 'Portugal', 'Greece', 'Ireland', 'Croatia', 'Romania',\n",
    "            'Ukraine', 'Poland', 'Czechia', 'Hungary', 'Bulgaria', 'Serbia',\n",
    "            'Montenegro', 'Bosnia and Herzegovina', 'Slovenia', 'Slovakia',\n",
    "            'Estonia', 'Latvia', 'Lithuania', 'Iceland', 'Malta', 'Cyprus',\n",
    "            'Luxembourg', 'North Macedonia', 'Albania', 'Moldova', 'Monaco',\n",
    "            'Andorra', 'Jersey', 'Guernsey', 'Isle of Man', 'Gibraltar',\n",
    "            'Åland Islands'\n",
    "        ],\n",
    "        \n",
    "        \"Asia\": [\n",
    "            'China', 'India', 'Japan', 'South Korea', 'Indonesia', 'Thailand',\n",
    "            'Malaysia', 'Singapore', 'Philippines', 'Vietnam', 'Myanmar (Burma)',\n",
    "            'Cambodia', 'Laos', 'Taiwan', 'Hong Kong', 'Macau', 'Mongolia',\n",
    "            'Kazakhstan', 'Uzbekistan', 'Afghanistan', 'Pakistan', 'Bangladesh',\n",
    "            'Sri Lanka', 'Nepal', 'Iran', 'Iraq', 'Turkey', 'Armenia',\n",
    "            'Azerbaijan', 'Georgia', 'Brunei', 'Timor-Leste', 'Maldives'\n",
    "        ],\n",
    "        \n",
    "        \"Middle East\": [\n",
    "            'Saudi Arabia', 'United Arab Emirates', 'Qatar', 'Kuwait', 'Bahrain',\n",
    "            'Oman', 'Yemen', 'Israel', 'Palestine', 'Jordan', 'Lebanon', 'Syria'\n",
    "        ],\n",
    "        \n",
    "        \"Africa\": [\n",
    "            'South Africa', 'Egypt', 'Nigeria', 'Kenya', 'Uganda', 'Tanzania',\n",
    "            'Ethiopia', 'Ghana', 'Morocco', 'Algeria', 'Tunisia', 'Libya',\n",
    "            'Sudan', 'South Sudan', 'Rwanda', 'Zambia', 'Zimbabwe', 'Botswana',\n",
    "            'Namibia', 'Mali', 'Senegal', \"Côte d'Ivoire\", 'Mozambique',\n",
    "            'Madagascar', 'Mauritius', 'Seychelles', 'Democratic Republic of the Congo',\n",
    "            'Malawi', 'El Salvador'\n",
    "        ],\n",
    "        \n",
    "        \"Oceania\": [\n",
    "            'Australia', 'New Zealand', 'Fiji', 'Papua New Guinea', 'Vanuatu',\n",
    "            'Solomon Islands', 'Cook Islands', 'French Polynesia', 'Guam',\n",
    "            'Northern Mariana Islands'\n",
    "        ],\n",
    "        \n",
    "        \"Russia & Central Asia\": [\n",
    "            'Russia'\n",
    "        ]\n",
    "    }\n",
    "    \n",
    "    # Create a reverse mapping from country to region\n",
    "    country_to_region = {}\n",
    "    for region, countries in regions.items():\n",
    "        for country_name in countries:\n",
    "            country_to_region[country_name] = region\n",
    "    \n",
    "    # Return the region for the given country\n",
    "    return country_to_region.get(country, \"Unknown\")\n",
    "\n",
    "\n",
    "# apply function to country column\n",
    "df['Reviewer_Global_Region'] = df.Reviewer_Location.apply(get_country_region)\n"
   ]
  },
  {
   "cell_type": "code",
   "execution_count": 54,
   "id": "0ef1beee",
   "metadata": {},
   "outputs": [
    {
     "data": {
      "text/plain": [
       "Reviewer_Global_Region\n",
       "North America            15833\n",
       "Europe                   11733\n",
       "Asia                      5868\n",
       "Oceania                   5159\n",
       "Middle East                798\n",
       "Africa                     430\n",
       "South America              179\n",
       "Russia & Central Asia       43\n",
       "Name: count, dtype: int64"
      ]
     },
     "execution_count": 54,
     "metadata": {},
     "output_type": "execute_result"
    }
   ],
   "source": [
    "df.Reviewer_Global_Region.value_counts()"
   ]
  },
  {
   "cell_type": "code",
   "execution_count": null,
   "id": "c6709b65",
   "metadata": {},
   "outputs": [
    {
     "data": {
      "image/png": "[encoded data removed]",
      "text/plain": [
       "<Figure size 640x480 with 1 Axes>"
      ]
     },
     "metadata": {},
     "output_type": "display_data"
    }
   ],
   "source": [
    "sns.boxplot(x=\"Reviewer_Global_Region\", y=\"Rating\", data=df)\n",
    "plt.xticks(rotation=90)\n",
    "plt.show()"
   ]
  },
  {
   "cell_type": "code",
   "execution_count": null,
   "id": "033c0ac0",
   "metadata": {},
   "outputs": [
    {
     "data": {
      "image/png": "[encoded data removed]",
      "text/plain": [
       "<Figure size 640x480 with 1 Axes>"
      ]
     },
     "metadata": {},
     "output_type": "display_data"
    }
   ],
   "source": [
    "sns.boxplot(x=\"Reviewer_Location\", y=\"Rating\", data=df[df.Reviewer_Location.isin(df.Reviewer_Location.value_counts().index[:20])])\n",
    "plt.xticks(rotation=90)\n",
    "plt.show()"
   ]
  },
  {
   "cell_type": "markdown",
   "id": "8febeb31",
   "metadata": {},
   "source": [
    "## Branch"
   ]
  },
  {
   "cell_type": "code",
   "execution_count": 56,
   "id": "f5d9148b",
   "metadata": {},
   "outputs": [
    {
     "data": {
      "text/plain": [
       "Branch\n",
       "Disneyland_California    18202\n",
       "Disneyland_Paris         12694\n",
       "Disneyland_HongKong       9147\n",
       "Name: count, dtype: int64"
      ]
     },
     "execution_count": 56,
     "metadata": {},
     "output_type": "execute_result"
    }
   ],
   "source": [
    "df.Branch.value_counts()"
   ]
  },
  {
   "cell_type": "code",
   "execution_count": null,
   "id": "da472943",
   "metadata": {},
   "outputs": [
    {
     "data": {
      "image/png": "[encoded data removed]",
      "text/plain": [
       "<Figure size 640x480 with 1 Axes>"
      ]
     },
     "metadata": {},
     "output_type": "display_data"
    }
   ],
   "source": [
    "sns.boxplot(x=\"Branch\", y=\"Rating\", data=df)\n",
    "plt.show()"
   ]
  },
  {
   "cell_type": "markdown",
   "id": "2eaa5e98",
   "metadata": {},
   "source": [
    "## Review Text"
   ]
  },
  {
   "cell_type": "code",
   "execution_count": 65,
   "id": "53d0b646",
   "metadata": {},
   "outputs": [
    {
     "data": {
      "text/plain": [
       "array([\"First of all, I am a Disney nut! Multiple trips to Disneyland and Disney World, Multiple Disney cruises, and a Disney Vacation Club member. Never having been to a Park outside the US, I did a lot of reading of reviews and comments. I realized that it wouldn't be Disney World, and I really downgraded my expectations based on what I read. I was completely surprised by my experience at Disneyland Paris. The Park is beautiful. It's smaller than Disney World, but what isn't? I thought the landscaping, the buildings, the restrooms and the rides were extremely well kept up. And in the Parks and hotel, I had nothing but positive interactions with Cast members. So much for the negativity I anticipated.The rides and attractions were a combination of familiar and new. And many of the familiar had different twists. Big Thunder Mountain is much more of a thrill ride, starting with the initial rush under the lake to get to the  mountain . Pirates of the Caribbean is a longer ride with more theming. Star Wars Hyperspace Mountain seemed a bigger thrill ride here. Buzz Lightyear, Star Tours, and It's a Small World were all familiar and well done. A couple walk thrus that were unique were the Sleeping Beauty Castle with Stained glass windows on the balcony, and a dragon in the basement. I also really enjoyed the walk through of Alice's Curious Labyrinth. My only disappointment was that Phantom Manor and the Indiana Jones ride were closed for refurbishment. Lots of the normal Disney option for dining. We enjoyed the Moroccan buffet at the Agrabah Cafe.This Disney Park did not let me down. Go with a positive attitude. Oh, and if you go in November, there will still be lines, but it will be cold.\",\n",
       "       'a fantasy world and the attractions are too good. since we went in Aug, it was crowded everywhere and maximum time we waited was about 45min for each attraction.a day is not enough, i would recommend people to stay in the hotel to enjoy all the parks.indiana jones, space mountain are thrilling but above all tower of terror is so scary but fun at the same time. pirates des caraibes and small world have been perfectlydesigned and animated.the parade show at 17h is spectacular and the fireworks show in the end (around 23h) is breathtaking. not to be missed at all!only big problem is there is no halal food in the parks, we had to survive on chips and veg foods. the gift shop has a variety of souvenir but the prices are quite expensive.',\n",
       "       \"Amazing place not just to kids, but to all family. It's not even looks like USA, Disneyland is a different place... Is a place where they make the things happen\",\n",
       "       'Its really amazing, you spend extreme fun time.  But, there is a huge traffic and lot of queues at each game',\n",
       "       'Great place with children and where adults become children for the day or days .  Not enough hours in the day to do all there is to do and re do the popular attractions',\n",
       "       'Reading online I felt there was a huge feeling of inferiority to this Disneyland compared to its American counterparts but I can honestly say I had a great time! It may look small on a map but I would say it felt about the same size as Disneyland California. There is so much to see and do our only downtime was sitting down to eat twice the whole day. I would say if you are a hardcore Disney fan it can be a two day park but you can definitely do it justice in one.My favourite rides (in order) were Mystic Manor, Big Grizzly Mountain Runaway Mine Car, Hyperspace Mountain and The Iron Man Experiece**. We headed straight to The Iron Man Experience and Mystic Manor when we first got to the park and faced minimal wait time   When we returned later on in the day queues had built up but we stayed onsite at the Hollywood Hotel which provided us with Fast Passes which came in very handy in these instances.** Shout out to It   s A Small World and the Dumbo rides that hold a special place in my heart too**The shows at Hong Kong Disney were amazing too   Check out Festival of the Lion King, Mickey and the Wonderous Book and Mickeys PhilharMagic. I can   t remember enjoying shows at other Disney Parks as much. The We Love Mickey show was cool too and didn   t involve having to fight with crowds for a space down Main Street   the show is literally projected into the surrounding buildings so you can stand wherever you like. At the end of the day there was a Villains Night Out show keeping with the Halloween theme and involving popular villains from your favourite Disney movies. It was a lot of fun but mostly in Chinese so apart from a whole lot of cackling I wasn   t really too sure what was going on! (Shout out to Cruella who was giving it 100!!!)As well as the shows there were parades to see too. Mickeys Flight of Fancy was the best. Again, keeping with Halloween, there was a Halloween Street Party down Main Street which was fun but could have been avoided. The Hong Kong Disneyland app came in very useful when planning my day at Disney, providing show parade times and where they were located. As you can probably tell I am a Disney fan. I honestly had a great time and feel like people are a tad harsh in relation to this park (I was constant told not to expect too much). My only disappointments are:1) the size of Sleeping Beauty castle and the fact there was a lot of construction going on around it (   pardon our dust we are creating magic   ). As my partner pointed out the 15ft fence probably made the already small castle look even smaller but I am sure once they are finished it will look amazing and I will definitely be back to see for myself! 2) Despite the Disney Corporation priding themselves in magic and customer service I was a disappointed to not see this fully reflected in this park. Overall customer service was lacking in Hong Kong as a whole and I understand culturally it is a different world, but I was constantly disappointed in the rudeness I experienced during my trip and think it something that needs to be worked on at this park in order to keep in with the Disney magic.',\n",
       "       \"This is one of my favourite places to be. It seems to be a place for children but there's plenty for adults to do and you can often find couples without children in the lines for meeting characters.If you're staying in one of the hotels on site you get access to the park from 8am as part of what they call extra magic hours. All you have to do is show a pass you get when you check in to gain access. Not every part of the park is open at 8am but there are some rides that are and there's also characters around to meet as well. The park is rather large and takes a good deal of time to get around if you want to see everything. The popular rides have a fast track option where you can choose a time to go back but you can only do one ride at a time so choose wisely.Characters float about and often get swamped and if you're going to meet a character at a designated spot and time, be prepared to wait or get there super early. We met Merida after a 2.5hr wait but found Peter Pan with no queue and met him within 5 minutes.There are plenty of places to eat and all with varying budgets depending on if you want a quick snack or a sit down meal. Prices can be steep but they allow you to take your own food and drink is as long as its not in a picnic basket so a few bits in a bag are fine. There are also water points around the park to use as well.Each day there is a parade around the park on a designated route that allows you to see all the characters. If you've got little ones it is best to start lining up the route early to ensure they can see as it gets quite deep in places, especially on Main Street.When we went they were starting to reinvent some areas for the 25th anniversary in 2017 so some parts were closed. There is a schedule on the website so you can see what's closed if you're going before the middle of 2017.\",\n",
       "       '3 time to visit Disneyland, and the worse. Yes there was new attraction, Toy story and Gizzly, an there were very crowed, as the is no space in there Disneyland. This time there was dirt all over in restaurant and the cleaner just stand and look at it with out doing something. I also miss some display in the park where you can see the time to the attraction',\n",
       "       \"Tip 1  There are fast pass machines (they're free) at some of the rides. They actually work. You can get one pass, and then when the first avaliable time you can ride the ride on your pass (say you can ride the ride at 1:40pm) comes, you are able to get another pass for another ride. I'm not sure all the rides have this option but when avaliable totally take advantage. Tip 2  Don't listen to 9 year olds. I waited in like 2 hours for the Matterhorn.. It was not worth the wait, that was my biggest Disney mistakeTip 3  Don't eat at the food court in Tomorrowland. The burger was dry and terrible, nothing redeeming about it. Should have waited and gone somewhere else. Also the Churro's don't have dipping sauce (like chocolate or anything). Tip 4   Just have fun. It was a Tuesday when I went and it was super crowded, lot of people traffic jams and long lines for everything.. I was a little surprised though, going to these places as a child you don't notice the looks on the faces of the  cast members,  operating the rides and directing people, it's either utter disgust with people or absolute boredom.\",\n",
       "       \"What needs to be said?  Disneyland is a very magical place, and it always makes you feel like a kid.  I can't get enough of this place.  I wish I could stay there for a night or two at least.  I love this place!\"],\n",
       "      dtype=object)"
      ]
     },
     "execution_count": 65,
     "metadata": {},
     "output_type": "execute_result"
    }
   ],
   "source": [
    "df.Review_Text.sample(10).values"
   ]
  },
  {
   "cell_type": "code",
   "execution_count": 66,
   "id": "1d0a0e5e",
   "metadata": {},
   "outputs": [
    {
     "data": {
      "text/plain": [
       "(40043, 8)"
      ]
     },
     "execution_count": 66,
     "metadata": {},
     "output_type": "execute_result"
    }
   ],
   "source": [
    "df.shape"
   ]
  },
  {
   "cell_type": "code",
   "execution_count": 69,
   "id": "bd389306",
   "metadata": {},
   "outputs": [
    {
     "data": {
      "text/plain": [
       "Reviewer_Global_Region\n",
       "Europe                   9447\n",
       "North America            1413\n",
       "Asia                      628\n",
       "Oceania                   600\n",
       "Middle East               339\n",
       "Africa                    184\n",
       "South America              63\n",
       "Russia & Central Asia      20\n",
       "Name: count, dtype: int64"
      ]
     },
     "execution_count": 69,
     "metadata": {},
     "output_type": "execute_result"
    }
   ],
   "source": [
    "df[df.Branch==\"Disneyland_Paris\"].Reviewer_Global_Region.value_counts()"
   ]
  },
  {
   "cell_type": "code",
   "execution_count": 71,
   "id": "6fabda30",
   "metadata": {},
   "outputs": [
    {
     "data": {
      "text/plain": [
       "array([\"The main reason for visiting Disney, the park is still amazing and the rides are good. The new additions of mickeys magical theatre and the princess pavilion are nice.I feel maybe one or two more rides should be fast pass access but that's me.As expected everything inside is ott price wise but the whole magical experience of parades and show make up for that.\",\n",
       "       \"We spent two days in Disneyland Paris. It's a nice place for kids but there are not enough action attractions for adults. A big plus is though the wheelchair accessibility (priority access toilets ramps map of fully accessible attractions). Prices for food and drinks are impressively high and there's not that much choice when it comes to fresh food. Unfortunately, many attractions were closed for renovations (like the Star Wars Simulator). It was nice to see the Disney Dream Castle and I can highly recommend Buzz Lightyear Laser Blast and Pirates of the Caribbean.\",\n",
       "       'well expereince is waiting is long but there are fast passes so get them n u will be better off instead of waiting i nthe line always so hve fun and enjoy',\n",
       "       \"i took my family on a week to Paris And Disney park, due to anniversary of Disney park 45 yrs, there was lots of discounts on tickets and special attractions. You can only go there once though,the road is tiring, depends on the place where you stay it might take you about 45 minutes away from town.There is lots of food places, where you can sit down and have a snack, there are lockers if you carry valuable, however I don't recommend. It was crowded, try to get there at early hours.\",\n",
       "       \"Disneyland Paris was awful. I recommend never going. Lines for anything  Don't Miss  were over 60 minutes and it wasn't a public or school holiday. Many, many things closed including a restaurant that didn't have a sign on it at all and we weren't the only people waiting for it to open at 11:55am. Then had to queue for food and toilets. At 12:30 the children's menu had run out at the Mexican place   it's a children's themepark!!. Our7 year old thought that the tacos that we did eventually get were delicious so that was a minor bonus. The buildings were tired and in need of paint. There was nothing magical about Disney at all! The final insult was just as we were leaving (after having been there for 7 hours and been on 4 rides   total ride time approx 12 minutes and wait time hours   they announced a spectacle on Mainstreet that sounded a like a parade so kids got set up and ready to see at least something spectacular but it was just ONE horse drawn cart with a movie character in it. Kids 14, 10 and 7 didn't enjoy Disneland at all   what a waste of a day!!!\",\n",
       "       \"Disneyland is a must for every person visiting Paris! it is absolutely enchanting! I suggest that you spend at least 2 days there! if you're only spending one day, then take only tickets for one park, unless you know exactly what are the attractions that you want to do and organise very well your day, otherwise you won't have time to do both parks. You must watch the parade at 17h30 and stay to watch the disney dream show at the closing (around 23h00 in summer)I bought my ticket at the http:  www.parkatem.com it was at least 15 euro cheaper then disney official websiteget extra batteries for your camera, if you're using your phone to take photos keep your charger with you. you can recharge your phone at the city hall at the entrance of the park, you could also recharge your phone camera at the restaurant while you're having lunch (and make sure you have lot of space on your memory card!) The restaurant prices are reasonable, I expected them to be expensive, but they were not much more expensive then any other restaurant in Paris! and you could also find a starbucks and a mcdonalds at Disney village!it been 3 years that I'm living in Paris, and I would say that the day I spent at Disney was one of the best days I spent in France!! I would definitely come back again!\",\n",
       "       'Queues too long 100 minutes! Unfriendly staff who do not smile and welcome you. Some restaurants and attractions that close down too early, 17h00 when the park is still open until 11.00pm leaving less choice and greater crowding in concentrated areas. Burgers and nuggets sold nearly everywhere now   hardly any variety in the different themed take aways unless you want to spend a fortune in the extortionately priced restaurants. The same goes for the shops   the same items for sale in almost all of the shops. The excellent tea with the Disney characters has now been eliminated. Halloween is only on one night now and you have to pay for certain things within the park such as face painting and the shooting range when you have already paid rising entry fees to get in in the first place. Sooo disappointed at this business mentality, which is killing the spirit of what Disney is all about. Walt would be turning in his ice pack!',\n",
       "       \"There isn't much information online about the Disneyland Halloween Party so here's my review of this year's event to help you decide if it's worth going next year.Good: Visitors in fantastic costumes, Mickey's Halloween Parade, fun to experience rides at night timeBad: Far too busy, not enough street entertainment, not enough lighting in Adventureland, not many spontaneous character appearances, no sweet giveaways (I heard that last year there people giving out sweets  maybe I'm wrong?)The park was open for Halloween Party ticket holders from 5pm. We arrived at 6pm and passed two ticket checks before entering and being directed by employees through Discoveryland. At this time the day's visitors were still in the park and were waiting in front of the castle for the Dreams show. It was pretty difficult to get to the other lands so we headed straight for Space Mountain and managed to get on within 20 minutes. We then approached the Buzz Lightyear ride only to be told by an employee that we needed a wristband to get access to the rides during the evening. Having passed two ticket checks without being given a wristband we were pretty annoyed to have to go right back to the entrance to collect them. This wasted a fair bit of time as we had to battle through the crowd of day visitors who were leaving the park. The spot where you collect the wristbands was very poorly indicated.By the time we got back to Discoveryland Buzz Lightyear had a 50 minute waiting time. We decided to try our luck with Indiana Jones and were really pleased to breeze onto the ride within 15 minutes. It was fantastic to ride the rollercoaster at night with views of the park.The Halloween events were about to start with Maleficent's parade. This was a bit of a let down as the parade only featured one float and a handful of Disney villains. Afterwards we went to grab a bite to eat at Videopolis and by chance caught the Goofy drums show which was really fun. We went back to Buzz Lightyear and queued for about 30 minutes. As we were queuing the band from Star Wars was playing and robot men were wandering around. We left Discoveryland and walked to Frontierland where we hoped to ride Thunder Mountain. Unfortunately this had a 70 minute wait time and the Fast Pass system was closed. We decided to give it a miss and just had a look around the area. People were queuing to meet Jack Skellington and the characters from Princess and the Frog  the queues were not too long. It was then time for the Halloween parade so we took our places (10 minutes before). The parade was harvest themed with beautifully designed floats and costumes. It was a nice touch that the floats were lit up in the dark. I would also have liked to have seen a spookier Halloween float to fit the event.After the parade it was difficult to get around with everybody moving in different directions. My biggest criticism of the night is that it was just far too overcrowded. I've been to Disneyland on busy Saturdays before and it was not nearly as bad as that night. Goodness knows how people with pushchairs managed it!We then went to Adventureland where we spotted Aladdin and Jasmine (this was again a queue up meet and greet scenario) It's a shame that characters don't pop out spontaneously at Disneyland, but I suppose it's too risky for them with the sheer number of people in the park. I expected to come across some street entertainment in this area but it seemed totally dead and very dark!After a walk around Adventureland we came back to the castle for Dreams. We were a bit late so had to watch from the side which was a bit of a shame as the effect of the animation on the castle is warped unless you're facing it head on. The programme said this was going to be a nightmarish Halloween themed Dreams  we must have missed that part in the first 5 minutes because to me it was just the regular Dreams sequence. By this time it was midnight so we reluctantly made our way to the exit in order to catch the last bus to the hotel. We didn't have time to check out Fantasyland (this closed before 11) and we missed the disco. Time was definitely an issue  if you factor in queuing and the time it takes to get around the park in large crowds it's really not possible to do everything. My advice would be to check the schedule and prioritise what you really want to do as the evening goes so quickly.We enjoyed ourselves at the party  we dressed up as characters from Frankenweenie and had a great time looking at the other visitors in their costumes. It was great to experience Halloween night at Disney but apart from being able to wear a costume I don't think it is much different to a regular day at the park. If you want to enjoy Disney at Halloween go in the day when you'll have more time and if you can, book a weekday.\",\n",
       "       \"Ok, maybe it's logical, but it was not to me.Whe had to party for a friend's thesis and book.We went there in high spirits.But actuyally I could never go back alone or with a girlfriend or enven to spend an amusing daytime.After 16, the only reason to go there is if you have a child obliging you or a group of mad drunk friends that want to loose an evening.\",\n",
       "       'Not as large and friendly as the US based site. Was surprised by the lack of  welcoming  characters at entry. Rides were fun and most important attractions present.'],\n",
       "      dtype=object)"
      ]
     },
     "execution_count": 71,
     "metadata": {},
     "output_type": "execute_result"
    }
   ],
   "source": [
    "df[df.Reviewer_Location=='France'].Review_Text.sample(10).values"
   ]
  },
  {
   "cell_type": "code",
   "execution_count": 72,
   "id": "c573f9d1",
   "metadata": {},
   "outputs": [],
   "source": [
    "df_fr = df[df.Reviewer_Location == \"France\"]"
   ]
  },
  {
   "cell_type": "code",
   "execution_count": 73,
   "id": "03063459",
   "metadata": {},
   "outputs": [
    {
     "data": {
      "text/plain": [
       "(223, 8)"
      ]
     },
     "execution_count": 73,
     "metadata": {},
     "output_type": "execute_result"
    }
   ],
   "source": [
    "df_fr.shape"
   ]
  },
  {
   "cell_type": "code",
   "execution_count": 74,
   "id": "ceeecc91",
   "metadata": {},
   "outputs": [],
   "source": [
    "from disney_review_analyzer import DisneyReviewAnalyzer"
   ]
  },
  {
   "cell_type": "code",
   "execution_count": 76,
   "id": "3de6044c",
   "metadata": {},
   "outputs": [
    {
     "name": "stderr",
     "output_type": "stream",
     "text": [
      "INFO:disney_review_analyzer:DisneyReviewAnalyzer initialized with OpenAI gpt-4o-mini\n",
      "INFO:disney_review_analyzer:Found 223 reviews to analyze\n",
      "INFO:disney_review_analyzer:Processing 223 reviews in 23 batches with max concurrency 5\n",
      "Processing batches:   0%|          | 0/23 [00:00<?, ?it/s]"
     ]
    },
    {
     "name": "stderr",
     "output_type": "stream",
     "text": [
      "INFO:httpx:HTTP Request: POST https://api.openai.com/v1/chat/completions \"HTTP/1.1 200 OK\"\n",
      "INFO:httpx:HTTP Request: POST https://api.openai.com/v1/chat/completions \"HTTP/1.1 200 OK\"\n",
      "INFO:httpx:HTTP Request: POST https://api.openai.com/v1/chat/completions \"HTTP/1.1 200 OK\"\n",
      "INFO:httpx:HTTP Request: POST https://api.openai.com/v1/chat/completions \"HTTP/1.1 200 OK\"\n",
      "INFO:httpx:HTTP Request: POST https://api.openai.com/v1/chat/completions \"HTTP/1.1 200 OK\"\n",
      "INFO:httpx:HTTP Request: POST https://api.openai.com/v1/chat/completions \"HTTP/1.1 200 OK\"\n",
      "INFO:httpx:HTTP Request: POST https://api.openai.com/v1/chat/completions \"HTTP/1.1 200 OK\"\n",
      "INFO:httpx:HTTP Request: POST https://api.openai.com/v1/chat/completions \"HTTP/1.1 200 OK\"\n",
      "INFO:httpx:HTTP Request: POST https://api.openai.com/v1/chat/completions \"HTTP/1.1 200 OK\"\n",
      "INFO:httpx:HTTP Request: POST https://api.openai.com/v1/chat/completions \"HTTP/1.1 200 OK\"\n",
      "Processing batches:   4%|▍         | 1/23 [00:09<03:36,  9.83s/it]INFO:disney_review_analyzer:Completed 1/23 batches\n",
      "INFO:httpx:HTTP Request: POST https://api.openai.com/v1/chat/completions \"HTTP/1.1 200 OK\"\n",
      "INFO:httpx:HTTP Request: POST https://api.openai.com/v1/chat/completions \"HTTP/1.1 200 OK\"\n",
      "INFO:httpx:HTTP Request: POST https://api.openai.com/v1/chat/completions \"HTTP/1.1 200 OK\"\n",
      "INFO:httpx:HTTP Request: POST https://api.openai.com/v1/chat/completions \"HTTP/1.1 200 OK\"\n",
      "INFO:httpx:HTTP Request: POST https://api.openai.com/v1/chat/completions \"HTTP/1.1 200 OK\"\n",
      "INFO:httpx:HTTP Request: POST https://api.openai.com/v1/chat/completions \"HTTP/1.1 200 OK\"\n",
      "INFO:httpx:HTTP Request: POST https://api.openai.com/v1/chat/completions \"HTTP/1.1 200 OK\"\n",
      "INFO:httpx:HTTP Request: POST https://api.openai.com/v1/chat/completions \"HTTP/1.1 200 OK\"\n",
      "INFO:httpx:HTTP Request: POST https://api.openai.com/v1/chat/completions \"HTTP/1.1 200 OK\"\n",
      "INFO:httpx:HTTP Request: POST https://api.openai.com/v1/chat/completions \"HTTP/1.1 200 OK\"\n",
      "Processing batches:   9%|▊         | 2/23 [00:19<03:25,  9.78s/it]INFO:disney_review_analyzer:Completed 2/23 batches\n",
      "INFO:httpx:HTTP Request: POST https://api.openai.com/v1/chat/completions \"HTTP/1.1 200 OK\"\n",
      "INFO:httpx:HTTP Request: POST https://api.openai.com/v1/chat/completions \"HTTP/1.1 200 OK\"\n",
      "INFO:httpx:HTTP Request: POST https://api.openai.com/v1/chat/completions \"HTTP/1.1 200 OK\"\n",
      "INFO:httpx:HTTP Request: POST https://api.openai.com/v1/chat/completions \"HTTP/1.1 200 OK\"\n",
      "INFO:httpx:HTTP Request: POST https://api.openai.com/v1/chat/completions \"HTTP/1.1 200 OK\"\n",
      "INFO:httpx:HTTP Request: POST https://api.openai.com/v1/chat/completions \"HTTP/1.1 200 OK\"\n",
      "INFO:httpx:HTTP Request: POST https://api.openai.com/v1/chat/completions \"HTTP/1.1 200 OK\"\n",
      "INFO:httpx:HTTP Request: POST https://api.openai.com/v1/chat/completions \"HTTP/1.1 200 OK\"\n",
      "INFO:httpx:HTTP Request: POST https://api.openai.com/v1/chat/completions \"HTTP/1.1 200 OK\"\n",
      "INFO:httpx:HTTP Request: POST https://api.openai.com/v1/chat/completions \"HTTP/1.1 200 OK\"\n",
      "Processing batches:  13%|█▎        | 3/23 [00:28<03:06,  9.31s/it]INFO:disney_review_analyzer:Completed 3/23 batches\n",
      "INFO:httpx:HTTP Request: POST https://api.openai.com/v1/chat/completions \"HTTP/1.1 200 OK\"\n",
      "INFO:httpx:HTTP Request: POST https://api.openai.com/v1/chat/completions \"HTTP/1.1 200 OK\"\n",
      "INFO:httpx:HTTP Request: POST https://api.openai.com/v1/chat/completions \"HTTP/1.1 200 OK\"\n",
      "INFO:httpx:HTTP Request: POST https://api.openai.com/v1/chat/completions \"HTTP/1.1 200 OK\"\n",
      "INFO:httpx:HTTP Request: POST https://api.openai.com/v1/chat/completions \"HTTP/1.1 200 OK\"\n",
      "INFO:httpx:HTTP Request: POST https://api.openai.com/v1/chat/completions \"HTTP/1.1 200 OK\"\n",
      "INFO:httpx:HTTP Request: POST https://api.openai.com/v1/chat/completions \"HTTP/1.1 200 OK\"\n",
      "INFO:httpx:HTTP Request: POST https://api.openai.com/v1/chat/completions \"HTTP/1.1 200 OK\"\n",
      "INFO:httpx:HTTP Request: POST https://api.openai.com/v1/chat/completions \"HTTP/1.1 200 OK\"\n",
      "INFO:httpx:HTTP Request: POST https://api.openai.com/v1/chat/completions \"HTTP/1.1 200 OK\"\n",
      "Processing batches:  17%|█▋        | 4/23 [00:35<02:43,  8.62s/it]INFO:disney_review_analyzer:Completed 4/23 batches\n",
      "INFO:httpx:HTTP Request: POST https://api.openai.com/v1/chat/completions \"HTTP/1.1 200 OK\"\n",
      "INFO:httpx:HTTP Request: POST https://api.openai.com/v1/chat/completions \"HTTP/1.1 200 OK\"\n",
      "INFO:httpx:HTTP Request: POST https://api.openai.com/v1/chat/completions \"HTTP/1.1 200 OK\"\n",
      "INFO:httpx:HTTP Request: POST https://api.openai.com/v1/chat/completions \"HTTP/1.1 200 OK\"\n",
      "INFO:httpx:HTTP Request: POST https://api.openai.com/v1/chat/completions \"HTTP/1.1 200 OK\"\n",
      "INFO:httpx:HTTP Request: POST https://api.openai.com/v1/chat/completions \"HTTP/1.1 200 OK\"\n",
      "INFO:httpx:HTTP Request: POST https://api.openai.com/v1/chat/completions \"HTTP/1.1 200 OK\"\n",
      "INFO:httpx:HTTP Request: POST https://api.openai.com/v1/chat/completions \"HTTP/1.1 200 OK\"\n",
      "INFO:httpx:HTTP Request: POST https://api.openai.com/v1/chat/completions \"HTTP/1.1 200 OK\"\n",
      "INFO:httpx:HTTP Request: POST https://api.openai.com/v1/chat/completions \"HTTP/1.1 200 OK\"\n",
      "Processing batches:  22%|██▏       | 5/23 [00:45<02:38,  8.83s/it]INFO:disney_review_analyzer:Completed 5/23 batches\n",
      "INFO:httpx:HTTP Request: POST https://api.openai.com/v1/chat/completions \"HTTP/1.1 200 OK\"\n",
      "INFO:httpx:HTTP Request: POST https://api.openai.com/v1/chat/completions \"HTTP/1.1 200 OK\"\n",
      "INFO:httpx:HTTP Request: POST https://api.openai.com/v1/chat/completions \"HTTP/1.1 200 OK\"\n",
      "INFO:httpx:HTTP Request: POST https://api.openai.com/v1/chat/completions \"HTTP/1.1 200 OK\"\n",
      "INFO:httpx:HTTP Request: POST https://api.openai.com/v1/chat/completions \"HTTP/1.1 200 OK\"\n",
      "INFO:httpx:HTTP Request: POST https://api.openai.com/v1/chat/completions \"HTTP/1.1 200 OK\"\n",
      "INFO:httpx:HTTP Request: POST https://api.openai.com/v1/chat/completions \"HTTP/1.1 200 OK\"\n",
      "INFO:httpx:HTTP Request: POST https://api.openai.com/v1/chat/completions \"HTTP/1.1 200 OK\"\n",
      "INFO:httpx:HTTP Request: POST https://api.openai.com/v1/chat/completions \"HTTP/1.1 200 OK\"\n",
      "INFO:httpx:HTTP Request: POST https://api.openai.com/v1/chat/completions \"HTTP/1.1 200 OK\"\n",
      "Processing batches:  26%|██▌       | 6/23 [00:54<02:30,  8.87s/it]INFO:disney_review_analyzer:Completed 6/23 batches\n",
      "INFO:httpx:HTTP Request: POST https://api.openai.com/v1/chat/completions \"HTTP/1.1 200 OK\"\n",
      "INFO:httpx:HTTP Request: POST https://api.openai.com/v1/chat/completions \"HTTP/1.1 200 OK\"\n",
      "INFO:httpx:HTTP Request: POST https://api.openai.com/v1/chat/completions \"HTTP/1.1 200 OK\"\n",
      "INFO:httpx:HTTP Request: POST https://api.openai.com/v1/chat/completions \"HTTP/1.1 200 OK\"\n",
      "INFO:httpx:HTTP Request: POST https://api.openai.com/v1/chat/completions \"HTTP/1.1 200 OK\"\n",
      "INFO:httpx:HTTP Request: POST https://api.openai.com/v1/chat/completions \"HTTP/1.1 200 OK\"\n",
      "INFO:httpx:HTTP Request: POST https://api.openai.com/v1/chat/completions \"HTTP/1.1 200 OK\"\n",
      "INFO:httpx:HTTP Request: POST https://api.openai.com/v1/chat/completions \"HTTP/1.1 200 OK\"\n",
      "INFO:httpx:HTTP Request: POST https://api.openai.com/v1/chat/completions \"HTTP/1.1 200 OK\"\n",
      "INFO:httpx:HTTP Request: POST https://api.openai.com/v1/chat/completions \"HTTP/1.1 200 OK\"\n",
      "Processing batches:  30%|███       | 7/23 [01:02<02:19,  8.70s/it]INFO:disney_review_analyzer:Completed 7/23 batches\n",
      "INFO:httpx:HTTP Request: POST https://api.openai.com/v1/chat/completions \"HTTP/1.1 200 OK\"\n",
      "INFO:httpx:HTTP Request: POST https://api.openai.com/v1/chat/completions \"HTTP/1.1 200 OK\"\n",
      "INFO:httpx:HTTP Request: POST https://api.openai.com/v1/chat/completions \"HTTP/1.1 200 OK\"\n",
      "INFO:httpx:HTTP Request: POST https://api.openai.com/v1/chat/completions \"HTTP/1.1 200 OK\"\n",
      "INFO:httpx:HTTP Request: POST https://api.openai.com/v1/chat/completions \"HTTP/1.1 200 OK\"\n",
      "INFO:httpx:HTTP Request: POST https://api.openai.com/v1/chat/completions \"HTTP/1.1 200 OK\"\n",
      "INFO:httpx:HTTP Request: POST https://api.openai.com/v1/chat/completions \"HTTP/1.1 200 OK\"\n",
      "INFO:httpx:HTTP Request: POST https://api.openai.com/v1/chat/completions \"HTTP/1.1 200 OK\"\n",
      "INFO:httpx:HTTP Request: POST https://api.openai.com/v1/chat/completions \"HTTP/1.1 200 OK\"\n",
      "INFO:httpx:HTTP Request: POST https://api.openai.com/v1/chat/completions \"HTTP/1.1 200 OK\"\n",
      "Processing batches:  35%|███▍      | 8/23 [01:11<02:13,  8.92s/it]INFO:disney_review_analyzer:Completed 8/23 batches\n",
      "INFO:httpx:HTTP Request: POST https://api.openai.com/v1/chat/completions \"HTTP/1.1 200 OK\"\n",
      "INFO:httpx:HTTP Request: POST https://api.openai.com/v1/chat/completions \"HTTP/1.1 200 OK\"\n",
      "INFO:httpx:HTTP Request: POST https://api.openai.com/v1/chat/completions \"HTTP/1.1 200 OK\"\n",
      "INFO:httpx:HTTP Request: POST https://api.openai.com/v1/chat/completions \"HTTP/1.1 200 OK\"\n",
      "INFO:httpx:HTTP Request: POST https://api.openai.com/v1/chat/completions \"HTTP/1.1 200 OK\"\n",
      "INFO:httpx:HTTP Request: POST https://api.openai.com/v1/chat/completions \"HTTP/1.1 200 OK\"\n",
      "INFO:httpx:HTTP Request: POST https://api.openai.com/v1/chat/completions \"HTTP/1.1 200 OK\"\n",
      "INFO:httpx:HTTP Request: POST https://api.openai.com/v1/chat/completions \"HTTP/1.1 200 OK\"\n",
      "INFO:httpx:HTTP Request: POST https://api.openai.com/v1/chat/completions \"HTTP/1.1 200 OK\"\n",
      "INFO:httpx:HTTP Request: POST https://api.openai.com/v1/chat/completions \"HTTP/1.1 200 OK\"\n",
      "Processing batches:  39%|███▉      | 9/23 [01:20<02:04,  8.89s/it]INFO:disney_review_analyzer:Completed 9/23 batches\n",
      "INFO:httpx:HTTP Request: POST https://api.openai.com/v1/chat/completions \"HTTP/1.1 200 OK\"\n",
      "INFO:httpx:HTTP Request: POST https://api.openai.com/v1/chat/completions \"HTTP/1.1 200 OK\"\n",
      "INFO:httpx:HTTP Request: POST https://api.openai.com/v1/chat/completions \"HTTP/1.1 200 OK\"\n",
      "INFO:httpx:HTTP Request: POST https://api.openai.com/v1/chat/completions \"HTTP/1.1 200 OK\"\n",
      "INFO:httpx:HTTP Request: POST https://api.openai.com/v1/chat/completions \"HTTP/1.1 200 OK\"\n",
      "INFO:httpx:HTTP Request: POST https://api.openai.com/v1/chat/completions \"HTTP/1.1 200 OK\"\n",
      "INFO:httpx:HTTP Request: POST https://api.openai.com/v1/chat/completions \"HTTP/1.1 200 OK\"\n",
      "INFO:httpx:HTTP Request: POST https://api.openai.com/v1/chat/completions \"HTTP/1.1 200 OK\"\n",
      "INFO:httpx:HTTP Request: POST https://api.openai.com/v1/chat/completions \"HTTP/1.1 200 OK\"\n",
      "INFO:httpx:HTTP Request: POST https://api.openai.com/v1/chat/completions \"HTTP/1.1 200 OK\"\n",
      "Processing batches:  43%|████▎     | 10/23 [01:29<01:56,  8.97s/it]INFO:disney_review_analyzer:Completed 10/23 batches\n",
      "INFO:httpx:HTTP Request: POST https://api.openai.com/v1/chat/completions \"HTTP/1.1 200 OK\"\n",
      "INFO:httpx:HTTP Request: POST https://api.openai.com/v1/chat/completions \"HTTP/1.1 200 OK\"\n",
      "INFO:httpx:HTTP Request: POST https://api.openai.com/v1/chat/completions \"HTTP/1.1 200 OK\"\n",
      "INFO:httpx:HTTP Request: POST https://api.openai.com/v1/chat/completions \"HTTP/1.1 200 OK\"\n",
      "INFO:httpx:HTTP Request: POST https://api.openai.com/v1/chat/completions \"HTTP/1.1 200 OK\"\n",
      "INFO:httpx:HTTP Request: POST https://api.openai.com/v1/chat/completions \"HTTP/1.1 200 OK\"\n",
      "INFO:httpx:HTTP Request: POST https://api.openai.com/v1/chat/completions \"HTTP/1.1 200 OK\"\n",
      "INFO:httpx:HTTP Request: POST https://api.openai.com/v1/chat/completions \"HTTP/1.1 200 OK\"\n",
      "INFO:httpx:HTTP Request: POST https://api.openai.com/v1/chat/completions \"HTTP/1.1 200 OK\"\n",
      "INFO:httpx:HTTP Request: POST https://api.openai.com/v1/chat/completions \"HTTP/1.1 200 OK\"\n",
      "Processing batches:  48%|████▊     | 11/23 [01:39<01:48,  9.08s/it]INFO:disney_review_analyzer:Completed 11/23 batches\n",
      "INFO:httpx:HTTP Request: POST https://api.openai.com/v1/chat/completions \"HTTP/1.1 200 OK\"\n",
      "INFO:httpx:HTTP Request: POST https://api.openai.com/v1/chat/completions \"HTTP/1.1 200 OK\"\n",
      "INFO:httpx:HTTP Request: POST https://api.openai.com/v1/chat/completions \"HTTP/1.1 200 OK\"\n",
      "INFO:httpx:HTTP Request: POST https://api.openai.com/v1/chat/completions \"HTTP/1.1 200 OK\"\n",
      "INFO:httpx:HTTP Request: POST https://api.openai.com/v1/chat/completions \"HTTP/1.1 200 OK\"\n",
      "INFO:httpx:HTTP Request: POST https://api.openai.com/v1/chat/completions \"HTTP/1.1 200 OK\"\n",
      "INFO:httpx:HTTP Request: POST https://api.openai.com/v1/chat/completions \"HTTP/1.1 200 OK\"\n",
      "INFO:httpx:HTTP Request: POST https://api.openai.com/v1/chat/completions \"HTTP/1.1 200 OK\"\n",
      "INFO:httpx:HTTP Request: POST https://api.openai.com/v1/chat/completions \"HTTP/1.1 200 OK\"\n",
      "INFO:httpx:HTTP Request: POST https://api.openai.com/v1/chat/completions \"HTTP/1.1 200 OK\"\n",
      "Processing batches:  52%|█████▏    | 12/23 [01:49<01:43,  9.39s/it]INFO:disney_review_analyzer:Completed 12/23 batches\n",
      "INFO:httpx:HTTP Request: POST https://api.openai.com/v1/chat/completions \"HTTP/1.1 200 OK\"\n",
      "INFO:httpx:HTTP Request: POST https://api.openai.com/v1/chat/completions \"HTTP/1.1 200 OK\"\n",
      "INFO:httpx:HTTP Request: POST https://api.openai.com/v1/chat/completions \"HTTP/1.1 200 OK\"\n",
      "INFO:httpx:HTTP Request: POST https://api.openai.com/v1/chat/completions \"HTTP/1.1 200 OK\"\n",
      "INFO:httpx:HTTP Request: POST https://api.openai.com/v1/chat/completions \"HTTP/1.1 200 OK\"\n",
      "INFO:httpx:HTTP Request: POST https://api.openai.com/v1/chat/completions \"HTTP/1.1 200 OK\"\n",
      "INFO:httpx:HTTP Request: POST https://api.openai.com/v1/chat/completions \"HTTP/1.1 200 OK\"\n",
      "INFO:httpx:HTTP Request: POST https://api.openai.com/v1/chat/completions \"HTTP/1.1 200 OK\"\n",
      "INFO:httpx:HTTP Request: POST https://api.openai.com/v1/chat/completions \"HTTP/1.1 200 OK\"\n",
      "INFO:httpx:HTTP Request: POST https://api.openai.com/v1/chat/completions \"HTTP/1.1 200 OK\"\n",
      "Processing batches:  57%|█████▋    | 13/23 [01:58<01:35,  9.52s/it]INFO:disney_review_analyzer:Completed 13/23 batches\n",
      "INFO:httpx:HTTP Request: POST https://api.openai.com/v1/chat/completions \"HTTP/1.1 200 OK\"\n",
      "INFO:httpx:HTTP Request: POST https://api.openai.com/v1/chat/completions \"HTTP/1.1 200 OK\"\n",
      "INFO:httpx:HTTP Request: POST https://api.openai.com/v1/chat/completions \"HTTP/1.1 200 OK\"\n",
      "INFO:httpx:HTTP Request: POST https://api.openai.com/v1/chat/completions \"HTTP/1.1 200 OK\"\n",
      "INFO:httpx:HTTP Request: POST https://api.openai.com/v1/chat/completions \"HTTP/1.1 200 OK\"\n",
      "INFO:httpx:HTTP Request: POST https://api.openai.com/v1/chat/completions \"HTTP/1.1 200 OK\"\n",
      "INFO:httpx:HTTP Request: POST https://api.openai.com/v1/chat/completions \"HTTP/1.1 200 OK\"\n",
      "INFO:httpx:HTTP Request: POST https://api.openai.com/v1/chat/completions \"HTTP/1.1 200 OK\"\n",
      "INFO:httpx:HTTP Request: POST https://api.openai.com/v1/chat/completions \"HTTP/1.1 200 OK\"\n",
      "INFO:httpx:HTTP Request: POST https://api.openai.com/v1/chat/completions \"HTTP/1.1 200 OK\"\n",
      "Processing batches:  61%|██████    | 14/23 [02:07<01:23,  9.23s/it]INFO:disney_review_analyzer:Completed 14/23 batches\n",
      "INFO:httpx:HTTP Request: POST https://api.openai.com/v1/chat/completions \"HTTP/1.1 200 OK\"\n",
      "INFO:httpx:HTTP Request: POST https://api.openai.com/v1/chat/completions \"HTTP/1.1 200 OK\"\n",
      "INFO:httpx:HTTP Request: POST https://api.openai.com/v1/chat/completions \"HTTP/1.1 200 OK\"\n",
      "INFO:httpx:HTTP Request: POST https://api.openai.com/v1/chat/completions \"HTTP/1.1 200 OK\"\n",
      "INFO:httpx:HTTP Request: POST https://api.openai.com/v1/chat/completions \"HTTP/1.1 200 OK\"\n",
      "INFO:httpx:HTTP Request: POST https://api.openai.com/v1/chat/completions \"HTTP/1.1 200 OK\"\n",
      "INFO:httpx:HTTP Request: POST https://api.openai.com/v1/chat/completions \"HTTP/1.1 200 OK\"\n",
      "INFO:httpx:HTTP Request: POST https://api.openai.com/v1/chat/completions \"HTTP/1.1 200 OK\"\n",
      "INFO:httpx:HTTP Request: POST https://api.openai.com/v1/chat/completions \"HTTP/1.1 200 OK\"\n",
      "INFO:httpx:HTTP Request: POST https://api.openai.com/v1/chat/completions \"HTTP/1.1 200 OK\"\n",
      "Processing batches:  65%|██████▌   | 15/23 [02:15<01:11,  8.88s/it]INFO:disney_review_analyzer:Completed 15/23 batches\n",
      "INFO:httpx:HTTP Request: POST https://api.openai.com/v1/chat/completions \"HTTP/1.1 200 OK\"\n",
      "INFO:httpx:HTTP Request: POST https://api.openai.com/v1/chat/completions \"HTTP/1.1 200 OK\"\n",
      "INFO:httpx:HTTP Request: POST https://api.openai.com/v1/chat/completions \"HTTP/1.1 200 OK\"\n",
      "INFO:httpx:HTTP Request: POST https://api.openai.com/v1/chat/completions \"HTTP/1.1 200 OK\"\n",
      "INFO:httpx:HTTP Request: POST https://api.openai.com/v1/chat/completions \"HTTP/1.1 200 OK\"\n",
      "INFO:httpx:HTTP Request: POST https://api.openai.com/v1/chat/completions \"HTTP/1.1 200 OK\"\n",
      "INFO:httpx:HTTP Request: POST https://api.openai.com/v1/chat/completions \"HTTP/1.1 200 OK\"\n",
      "INFO:httpx:HTTP Request: POST https://api.openai.com/v1/chat/completions \"HTTP/1.1 200 OK\"\n",
      "INFO:httpx:HTTP Request: POST https://api.openai.com/v1/chat/completions \"HTTP/1.1 200 OK\"\n",
      "INFO:httpx:HTTP Request: POST https://api.openai.com/v1/chat/completions \"HTTP/1.1 200 OK\"\n",
      "Processing batches:  70%|██████▉   | 16/23 [02:24<01:02,  8.94s/it]INFO:disney_review_analyzer:Completed 16/23 batches\n",
      "INFO:httpx:HTTP Request: POST https://api.openai.com/v1/chat/completions \"HTTP/1.1 200 OK\"\n",
      "INFO:httpx:HTTP Request: POST https://api.openai.com/v1/chat/completions \"HTTP/1.1 200 OK\"\n",
      "INFO:httpx:HTTP Request: POST https://api.openai.com/v1/chat/completions \"HTTP/1.1 200 OK\"\n",
      "INFO:httpx:HTTP Request: POST https://api.openai.com/v1/chat/completions \"HTTP/1.1 200 OK\"\n",
      "INFO:httpx:HTTP Request: POST https://api.openai.com/v1/chat/completions \"HTTP/1.1 200 OK\"\n",
      "INFO:httpx:HTTP Request: POST https://api.openai.com/v1/chat/completions \"HTTP/1.1 200 OK\"\n",
      "INFO:httpx:HTTP Request: POST https://api.openai.com/v1/chat/completions \"HTTP/1.1 200 OK\"\n",
      "INFO:httpx:HTTP Request: POST https://api.openai.com/v1/chat/completions \"HTTP/1.1 200 OK\"\n",
      "INFO:httpx:HTTP Request: POST https://api.openai.com/v1/chat/completions \"HTTP/1.1 200 OK\"\n",
      "INFO:httpx:HTTP Request: POST https://api.openai.com/v1/chat/completions \"HTTP/1.1 200 OK\"\n",
      "Processing batches:  74%|███████▍  | 17/23 [02:34<00:54,  9.09s/it]INFO:disney_review_analyzer:Completed 17/23 batches\n",
      "INFO:httpx:HTTP Request: POST https://api.openai.com/v1/chat/completions \"HTTP/1.1 200 OK\"\n",
      "INFO:httpx:HTTP Request: POST https://api.openai.com/v1/chat/completions \"HTTP/1.1 200 OK\"\n",
      "INFO:httpx:HTTP Request: POST https://api.openai.com/v1/chat/completions \"HTTP/1.1 200 OK\"\n",
      "INFO:httpx:HTTP Request: POST https://api.openai.com/v1/chat/completions \"HTTP/1.1 200 OK\"\n",
      "INFO:httpx:HTTP Request: POST https://api.openai.com/v1/chat/completions \"HTTP/1.1 200 OK\"\n",
      "INFO:httpx:HTTP Request: POST https://api.openai.com/v1/chat/completions \"HTTP/1.1 200 OK\"\n",
      "INFO:httpx:HTTP Request: POST https://api.openai.com/v1/chat/completions \"HTTP/1.1 200 OK\"\n",
      "INFO:httpx:HTTP Request: POST https://api.openai.com/v1/chat/completions \"HTTP/1.1 200 OK\"\n",
      "INFO:httpx:HTTP Request: POST https://api.openai.com/v1/chat/completions \"HTTP/1.1 200 OK\"\n",
      "INFO:httpx:HTTP Request: POST https://api.openai.com/v1/chat/completions \"HTTP/1.1 200 OK\"\n",
      "Processing batches:  78%|███████▊  | 18/23 [02:43<00:45,  9.18s/it]INFO:disney_review_analyzer:Completed 18/23 batches\n",
      "INFO:httpx:HTTP Request: POST https://api.openai.com/v1/chat/completions \"HTTP/1.1 200 OK\"\n",
      "INFO:httpx:HTTP Request: POST https://api.openai.com/v1/chat/completions \"HTTP/1.1 200 OK\"\n",
      "INFO:httpx:HTTP Request: POST https://api.openai.com/v1/chat/completions \"HTTP/1.1 200 OK\"\n",
      "INFO:httpx:HTTP Request: POST https://api.openai.com/v1/chat/completions \"HTTP/1.1 200 OK\"\n",
      "INFO:httpx:HTTP Request: POST https://api.openai.com/v1/chat/completions \"HTTP/1.1 200 OK\"\n",
      "INFO:httpx:HTTP Request: POST https://api.openai.com/v1/chat/completions \"HTTP/1.1 200 OK\"\n",
      "INFO:httpx:HTTP Request: POST https://api.openai.com/v1/chat/completions \"HTTP/1.1 200 OK\"\n",
      "INFO:httpx:HTTP Request: POST https://api.openai.com/v1/chat/completions \"HTTP/1.1 200 OK\"\n",
      "INFO:httpx:HTTP Request: POST https://api.openai.com/v1/chat/completions \"HTTP/1.1 200 OK\"\n",
      "INFO:httpx:HTTP Request: POST https://api.openai.com/v1/chat/completions \"HTTP/1.1 200 OK\"\n",
      "Processing batches:  83%|████████▎ | 19/23 [02:53<00:37,  9.28s/it]INFO:disney_review_analyzer:Completed 19/23 batches\n",
      "INFO:httpx:HTTP Request: POST https://api.openai.com/v1/chat/completions \"HTTP/1.1 200 OK\"\n",
      "INFO:httpx:HTTP Request: POST https://api.openai.com/v1/chat/completions \"HTTP/1.1 200 OK\"\n",
      "INFO:httpx:HTTP Request: POST https://api.openai.com/v1/chat/completions \"HTTP/1.1 200 OK\"\n",
      "INFO:httpx:HTTP Request: POST https://api.openai.com/v1/chat/completions \"HTTP/1.1 200 OK\"\n",
      "INFO:httpx:HTTP Request: POST https://api.openai.com/v1/chat/completions \"HTTP/1.1 200 OK\"\n",
      "INFO:httpx:HTTP Request: POST https://api.openai.com/v1/chat/completions \"HTTP/1.1 200 OK\"\n",
      "INFO:httpx:HTTP Request: POST https://api.openai.com/v1/chat/completions \"HTTP/1.1 200 OK\"\n",
      "INFO:httpx:HTTP Request: POST https://api.openai.com/v1/chat/completions \"HTTP/1.1 200 OK\"\n",
      "INFO:httpx:HTTP Request: POST https://api.openai.com/v1/chat/completions \"HTTP/1.1 200 OK\"\n",
      "INFO:httpx:HTTP Request: POST https://api.openai.com/v1/chat/completions \"HTTP/1.1 200 OK\"\n",
      "Processing batches:  87%|████████▋ | 20/23 [03:02<00:28,  9.39s/it]INFO:disney_review_analyzer:Completed 20/23 batches\n",
      "INFO:httpx:HTTP Request: POST https://api.openai.com/v1/chat/completions \"HTTP/1.1 200 OK\"\n",
      "INFO:httpx:HTTP Request: POST https://api.openai.com/v1/chat/completions \"HTTP/1.1 200 OK\"\n",
      "INFO:httpx:HTTP Request: POST https://api.openai.com/v1/chat/completions \"HTTP/1.1 200 OK\"\n",
      "INFO:httpx:HTTP Request: POST https://api.openai.com/v1/chat/completions \"HTTP/1.1 200 OK\"\n",
      "INFO:httpx:HTTP Request: POST https://api.openai.com/v1/chat/completions \"HTTP/1.1 200 OK\"\n",
      "INFO:httpx:HTTP Request: POST https://api.openai.com/v1/chat/completions \"HTTP/1.1 200 OK\"\n",
      "INFO:httpx:HTTP Request: POST https://api.openai.com/v1/chat/completions \"HTTP/1.1 200 OK\"\n",
      "INFO:httpx:HTTP Request: POST https://api.openai.com/v1/chat/completions \"HTTP/1.1 200 OK\"\n",
      "INFO:httpx:HTTP Request: POST https://api.openai.com/v1/chat/completions \"HTTP/1.1 200 OK\"\n",
      "INFO:httpx:HTTP Request: POST https://api.openai.com/v1/chat/completions \"HTTP/1.1 200 OK\"\n",
      "Processing batches:  91%|█████████▏| 21/23 [03:12<00:18,  9.42s/it]INFO:disney_review_analyzer:Completed 21/23 batches\n",
      "INFO:httpx:HTTP Request: POST https://api.openai.com/v1/chat/completions \"HTTP/1.1 200 OK\"\n",
      "INFO:httpx:HTTP Request: POST https://api.openai.com/v1/chat/completions \"HTTP/1.1 200 OK\"\n",
      "INFO:httpx:HTTP Request: POST https://api.openai.com/v1/chat/completions \"HTTP/1.1 200 OK\"\n",
      "INFO:httpx:HTTP Request: POST https://api.openai.com/v1/chat/completions \"HTTP/1.1 200 OK\"\n",
      "INFO:httpx:HTTP Request: POST https://api.openai.com/v1/chat/completions \"HTTP/1.1 200 OK\"\n",
      "INFO:httpx:HTTP Request: POST https://api.openai.com/v1/chat/completions \"HTTP/1.1 200 OK\"\n",
      "INFO:httpx:HTTP Request: POST https://api.openai.com/v1/chat/completions \"HTTP/1.1 200 OK\"\n",
      "INFO:httpx:HTTP Request: POST https://api.openai.com/v1/chat/completions \"HTTP/1.1 200 OK\"\n",
      "INFO:httpx:HTTP Request: POST https://api.openai.com/v1/chat/completions \"HTTP/1.1 200 OK\"\n",
      "INFO:httpx:HTTP Request: POST https://api.openai.com/v1/chat/completions \"HTTP/1.1 200 OK\"\n",
      "Processing batches:  96%|█████████▌| 22/23 [03:21<00:09,  9.47s/it]INFO:disney_review_analyzer:Completed 22/23 batches\n",
      "INFO:httpx:HTTP Request: POST https://api.openai.com/v1/chat/completions \"HTTP/1.1 200 OK\"\n",
      "INFO:httpx:HTTP Request: POST https://api.openai.com/v1/chat/completions \"HTTP/1.1 200 OK\"\n",
      "INFO:httpx:HTTP Request: POST https://api.openai.com/v1/chat/completions \"HTTP/1.1 200 OK\"\n",
      "Processing batches: 100%|██████████| 23/23 [03:26<00:00,  7.99s/it]INFO:disney_review_analyzer:Completed 23/23 batches\n",
      "Processing batches: 100%|██████████| 23/23 [03:26<00:00,  8.97s/it]\n",
      "INFO:disney_review_analyzer:Results saved to disney_reviews_fr_analysis.csv\n",
      "INFO:disney_review_analyzer:Successfully analyzed 223/223 reviews\n"
     ]
    }
   ],
   "source": [
    "\n",
    "\n",
    "analyzer = DisneyReviewAnalyzer(\n",
    "    model_name=\"gpt-4o-mini\",\n",
    "    batch_size=10,\n",
    "    max_concurrency=5\n",
    ")\n",
    "\n",
    "res = await analyzer.analyze_df_async(df_fr, output_path=\"disney_reviews_fr_analysis.csv\")"
   ]
  },
  {
   "cell_type": "markdown",
   "id": "f8323e04",
   "metadata": {},
   "source": [
    "# Natural Language Question"
   ]
  },
  {
   "cell_type": "code",
   "execution_count": 2,
   "id": "3dca6a07",
   "metadata": {},
   "outputs": [
    {
     "name": "stderr",
     "output_type": "stream",
     "text": [
      "/tmp/ipykernel_479554/940065791.py:3: FutureWarning: A value is trying to be set on a copy of a DataFrame or Series through chained assignment using an inplace method.\n",
      "The behavior will change in pandas 3.0. This inplace method will never work because the intermediate object on which we are setting values always behaves as a copy.\n",
      "\n",
      "For example, when doing 'df[col].method(value, inplace=True)', try using 'df.method({col: value}, inplace=True)' or df[col] = df[col].method(value) instead, to perform the operation inplace on the original object.\n",
      "\n",
      "\n",
      "  df_fr_analyzed.has_children.fillna(False, inplace=True)\n",
      "/tmp/ipykernel_479554/940065791.py:3: FutureWarning: Downcasting object dtype arrays on .fillna, .ffill, .bfill is deprecated and will change in a future version. Call result.infer_objects(copy=False) instead. To opt-in to the future behavior, set `pd.set_option('future.no_silent_downcasting', True)`\n",
      "  df_fr_analyzed.has_children.fillna(False, inplace=True)\n",
      "/tmp/ipykernel_479554/940065791.py:4: FutureWarning: A value is trying to be set on a copy of a DataFrame or Series through chained assignment using an inplace method.\n",
      "The behavior will change in pandas 3.0. This inplace method will never work because the intermediate object on which we are setting values always behaves as a copy.\n",
      "\n",
      "For example, when doing 'df[col].method(value, inplace=True)', try using 'df.method({col: value}, inplace=True)' or df[col] = df[col].method(value) instead, to perform the operation inplace on the original object.\n",
      "\n",
      "\n",
      "  df_fr_analyzed.popular_attractions.fillna('unknown', inplace=True)\n",
      "/tmp/ipykernel_479554/940065791.py:6: FutureWarning: A value is trying to be set on a copy of a DataFrame or Series through chained assignment using an inplace method.\n",
      "The behavior will change in pandas 3.0. This inplace method will never work because the intermediate object on which we are setting values always behaves as a copy.\n",
      "\n",
      "For example, when doing 'df[col].method(value, inplace=True)', try using 'df.method({col: value}, inplace=True)' or df[col] = df[col].method(value) instead, to perform the operation inplace on the original object.\n",
      "\n",
      "\n",
      "  df_fr_analyzed.main_complaint.fillna('not_mentioned', inplace=True)\n"
     ]
    }
   ],
   "source": [
    "df_fr_analyzed = pd.read_csv(\"disney_reviews_fr_analysis.csv\")\n",
    "\n",
    "df_fr_analyzed.has_children.fillna(False, inplace=True)\n",
    "df_fr_analyzed.popular_attractions.fillna('unknown', inplace=True)\n",
    "df_fr_analyzed['popular_attractions'] = df_fr_analyzed['popular_attractions'].apply(lambda x: x.split(';') if isinstance(x, str) else [])\n",
    "df_fr_analyzed.main_complaint.fillna('not_mentioned', inplace=True)\n",
    "df_fr_analyzed['main_complaint'] = df_fr_analyzed['main_complaint'].apply(lambda x: \"not_mentioned\" if x in ['none', 'not mentioned'] else x)\n",
    "\n",
    "import random\n",
    "df_fr_analyzed['month'] = random.choices(range(1, 13), k=len(df_fr_analyzed))\n",
    "\n",
    "# remove year column\n",
    "df_fr_analyzed.drop(columns=['year'], inplace=True)\n",
    "\n",
    "# change month number to month name\n",
    "import datetime\n",
    "df_fr_analyzed['month'] = df_fr_analyzed['month'].apply(lambda x: datetime.datetime(1900, int(x), 1).strftime('%B'))\n"
   ]
  },
  {
   "cell_type": "code",
   "execution_count": 3,
   "id": "92ebf058",
   "metadata": {},
   "outputs": [
    {
     "name": "stdout",
     "output_type": "stream",
     "text": [
      "\u001b[2m2025-08-24 15:04:42\u001b[0m [\u001b[32m\u001b[1mdebug    \u001b[0m] \u001b[1mYAML configuration not available, falling back to dotenv\u001b[0m \u001b[36merror\u001b[0m=\u001b[35mKeyError('yaml_config_section key \"framework\" not found in config.yaml')\u001b[0m\n",
      "\u001b[2m2025-08-24 15:04:42\u001b[0m [\u001b[32m\u001b[1mdebug    \u001b[0m] \u001b[1mYAML configuration not available, falling back to dotenv\u001b[0m \u001b[36merror\u001b[0m=\u001b[35mKeyError('yaml_config_section key \"resource\" not found in config.yaml')\u001b[0m\n",
      "\u001b[2m2025-08-24 15:04:42\u001b[0m [\u001b[32m\u001b[1mdebug    \u001b[0m] \u001b[1mYAML configuration not available, falling back to dotenv\u001b[0m \u001b[36merror\u001b[0m=\u001b[35mKeyError('yaml_config_section key \"resource\" not found in config.yaml')\u001b[0m\n",
      "\u001b[2m2025-08-24 15:04:42\u001b[0m [\u001b[32m\u001b[1mdebug    \u001b[0m] \u001b[1mYAML configuration not available, falling back to dotenv\u001b[0m \u001b[36merror\u001b[0m=\u001b[35mKeyError('yaml_config_section key \"resource\" not found in config.yaml')\u001b[0m\n",
      "✅ Superlinked application initialized successfully\n",
      "✅ Indexed 223 Disney reviews successfully\n",
      "✅ Disney RAG system ready with 223 reviews\n"
     ]
    },
    {
     "name": "stderr",
     "output_type": "stream",
     "text": [
      "/tmp/ipykernel_479554/93623539.py:7: LangChainDeprecationWarning: The method `Chain.__call__` was deprecated in langchain 0.1.0 and will be removed in 1.0. Use :meth:`~invoke` instead.\n",
      "  result = qa_chain(\"What do families think about attractions?\")\n"
     ]
    },
    {
     "name": "stdout",
     "output_type": "stream",
     "text": [
      "Based on the review excerpts provided, families generally have a positive sentiment towards the attractions at Disney theme parks, highlighting a magical experience that caters to a wide range of ages. Here’s a comprehensive analysis of the visitor experiences, sentiments, and insights:\n",
      "\n",
      "### Overall Sentiment Patterns\n",
      "The overall sentiment expressed in the reviews is overwhelmingly positive, with many families describing their experiences as \"magical\" and \"wonderful.\" Visitors appreciate the immersive environment that makes them feel like they are part of a Disney movie. The excitement and joy of children are frequently mentioned, indicating that the parks are particularly enjoyable for families with kids.\n",
      "\n",
      "### Visitor Demographics\n",
      "Families with children of various ages are the primary demographic reflected in the reviews. Parents mention taking children as young as three years old, and there are also references to older children and teenagers. Some reviewers express confusion about why families bring very young babies, suggesting that the attractions may not be suitable for infants who cannot appreciate the experience.\n",
      "\n",
      "### Specific Aspects Mentioned\n",
      "1. **Attractions**: \n",
      "   - Families appreciate the variety of attractions available for all ages, from gentle rides for toddlers to more thrilling experiences for older kids and teenagers. Specific rides mentioned include \"Pirates of the Caribbean,\" \"Buzz Lightyear Laser Blast,\" and \"Dumbo,\" with mixed feelings about the queues associated with these attractions.\n",
      "   - The quality of the rides is described as \"first class,\" and many families enjoy the themed experiences that align with Disney's storytelling.\n",
      "\n",
      "2. **Food**: \n",
      "   - Food options are noted to be expensive, with a general consensus that while the food is acceptable, it tends to be American diner-style (e.g., burgers). The Rainforest Restaurant is highlighted for its good atmosphere, but overall, dining experiences seem to be a common pain point due to high prices.\n",
      "\n",
      "3. **Staff and Maintenance**: \n",
      "   - The parks are described as \"beautifully kept\" and \"well maintained,\" indicating that cleanliness and upkeep are priorities that enhance the visitor experience. However, there are no specific mentions of staff interactions, suggesting that while they may not have been a highlight, they also did not detract from the experience.\n",
      "\n",
      "4. **Pricing**: \n",
      "   - Pricing for food and merchandise is frequently mentioned as a downside, with reviewers noting that shops offer similar items at high prices. This aspect can be a deterrent for some families, especially those on a budget.\n",
      "\n",
      "### Common Pain Points or Positive Highlights\n",
      "- **Pain Points**:\n",
      "  - Long queues for popular attractions are a significant concern, with some families suggesting that the FastPass system helps alleviate this issue but does not eliminate it entirely.\n",
      "  - The presence of smoking in the parks is mentioned as a downside, indicating that some visitors find it unpleasant.\n",
      "  - The late timing of events, such as fireworks, can be challenging for families with young children.\n",
      "\n",
      "- **Positive Highlights**:\n",
      "  - The overall atmosphere of the parks, especially during parades and fireworks, is frequently praised. Families enjoy the character interactions, although they note that meeting characters can be chaotic.\n",
      "  - The picturesque settings and opportunities for great photos are also highlighted as a positive aspect of the experience.\n",
      "\n",
      "### Recommendations Based on the Data\n",
      "1. **Plan for Queues**: Families should consider using the FastPass system for popular attractions to minimize wait times. Arriving early and planning the day around peak times for rides can also enhance the experience.\n",
      "\n",
      "2. **Consider Age Appropriateness**: Families with very young children may want to evaluate which attractions are suitable for their kids to ensure a more enjoyable experience.\n",
      "\n",
      "3. **Budget for Food and Souvenirs**: Visitors should prepare for higher-than-average prices for food and merchandise. Bringing snacks or planning meals in advance can help manage costs.\n",
      "\n",
      "4. **Timing of Events**: Families with young children might want to prioritize daytime activities and consider skipping late-night events to avoid exhaustion.\n",
      "\n",
      "5. **Explore All Attractions**: While some parks may cater more to older children and teenagers, families should explore all areas, including less popular attractions, to find hidden gems that may be enjoyable for younger kids.\n",
      "\n",
      "In summary, Disney theme parks provide a largely positive experience for families, with a focus on attractions that cater to various age groups. While there are some common pain points, particularly regarding queues and pricing, the overall sentiment is one of joy and magic, making it a favored destination for family outings.\n"
     ]
    }
   ],
   "source": [
    "from disney_superlinked import create_disney_rag_system\n",
    "\n",
    "# Create RAG system\n",
    "qa_chain = create_disney_rag_system(df_fr_analyzed)\n",
    "\n",
    "# Ask questions\n",
    "result = qa_chain(\"What do families think about attractions?\")\n",
    "print(result['result'])"
   ]
  },
  {
   "cell_type": "code",
   "execution_count": null,
   "id": "d7eb160e",
   "metadata": {},
   "outputs": [],
   "source": []
  }
 ],
 "metadata": {
  "kernelspec": {
   "display_name": ".venv",
   "language": "python",
   "name": "python3"
  },
  "language_info": {
   "codemirror_mode": {
    "name": "ipython",
    "version": 3
   },
   "file_extension": ".py",
   "mimetype": "text/x-python",
   "name": "python",
   "nbconvert_exporter": "python",
   "pygments_lexer": "ipython3",
   "version": "3.13.5"
  }
 },
 "nbformat": 4,
 "nbformat_minor": 5
}
